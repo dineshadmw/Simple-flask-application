{
 "cells": [
  {
   "cell_type": "code",
   "execution_count": 2,
   "id": "017c456b",
   "metadata": {},
   "outputs": [],
   "source": [
    "import csv\n",
    "players = [{\n",
    "    'player_id': 0,\n",
    "    'player_name': 'SR Tendulkar',\n",
    "    'country' : 'India',\n",
    "    'runs' : 18426\n",
    "    \n",
    "}, {'player_id': 1,\n",
    "    'player_name': 'KC Sangakkara',\n",
    "    'country' : 'Sri Lanka',\n",
    "    'runs' : 14234\n",
    "   \n",
    "}, {'player_id': 2,\n",
    "    'player_name': 'RT Ponting',\n",
    "    'country' : 'Australia',\n",
    "    'runs' : 13704\n",
    "}, \n",
    "    {'player_id': 3,\n",
    "    'player_name': 'ST Jayasuriya',\n",
    "    'country' : 'Sri Lanka',\n",
    "    'runs' : 13430\n",
    "     \n",
    "}, {'player_id': 4,\n",
    "    'player_name': 'V Kohli',\n",
    "    'country' : 'India',\n",
    "    'runs' : 12898\n",
    "    \n",
    "}]\n",
    "\n",
    "filename = \"players.csv\"\n",
    "fields = ['player_id', 'player_name', 'country', 'runs']\n",
    "\n",
    "with open(filename, 'w') as csvfile: \n",
    "    writer = csv.DictWriter(csvfile, fieldnames = fields)\n",
    "    writer.writeheader()\n",
    "    writer.writerows(players)  "
   ]
  },
  {
   "cell_type": "code",
   "execution_count": null,
   "id": "df3d00f8",
   "metadata": {},
   "outputs": [],
   "source": [
    "# file source: https://stats.espncricinfo.com/ci/content/records/83548.html"
   ]
  }
 ],
 "metadata": {
  "kernelspec": {
   "display_name": "Python 3 (ipykernel)",
   "language": "python",
   "name": "python3"
  },
  "language_info": {
   "codemirror_mode": {
    "name": "ipython",
    "version": 3
   },
   "file_extension": ".py",
   "mimetype": "text/x-python",
   "name": "python",
   "nbconvert_exporter": "python",
   "pygments_lexer": "ipython3",
   "version": "3.9.13"
  }
 },
 "nbformat": 4,
 "nbformat_minor": 5
}
